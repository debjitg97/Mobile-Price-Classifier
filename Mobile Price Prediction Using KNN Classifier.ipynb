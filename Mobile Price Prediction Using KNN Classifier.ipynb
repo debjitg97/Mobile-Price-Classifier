{
 "cells": [
  {
   "cell_type": "markdown",
   "metadata": {},
   "source": [
    "# Mobile Price Classifier, using Machine Learning\n",
    "## By Debjit Ganguli, Debdyuti Saha, Chhandak Patra, Protyush Mukherjee and Aniruddha Poddar\n",
    "## Guided by Prof. Debayan Ganguly\n",
    "\n",
    "The dataset used for the project can be found at: https://www.kaggle.com/iabhishekofficial/mobile-price-classification\n",
    "\n",
    "Mobile phone is a device which was invented as an compact alternative to telephones and which has since evolved to the point that we not only have smartphones, but we also cannot imagine life without a mobile. With so many mobiles companies to choose from, we need something to tell us if the price of the mobile is justified for its features. This is where this project comes in, we take a dataset of mobile phones and their features along with a price range. We create a Machine Learning model to predict the price range of a mobile based on its feature, using the data of the previous mobile phones in our dataset. The models we use are: Linear Regression, Logistic Regression, Random Forest Classifier and KNN Classifier. We check the accuracy for each and choose the model with the most accuracy. In our dataset, we have a train file and a test file. But the test file has no data for price range, so we have to split the training data into training data and testing data to find the accuracy of the models. We will use the test dataset to predict the price range of those mobiles and compare some features with the training dataset to check if our model works as expected. Let's take this opportunity to explore the columns in the dataset.\n",
    "1. battery_power - The total energy that can be stored by the mobile battery, in mAh\n",
    "2. blue - Indicates whether the phone has bluetooth or not(0 for no, 1 for yes)\n",
    "3. clock_speed - The speed at which the mobile processor runs\n",
    "4. dual_sum - Indicates whether the phone has dual sim support or not(0 for no, 1 for yes)\n",
    "5. fc - The megapixels of the front camera\n",
    "6. four_g - Indicates whether the phone has 4G support or not(0 for no, 1 for yes)\n",
    "7. int_memory - Internal memory of the phone, in GB\n",
    "8. m_dep - Depth of mobile, in cm\n",
    "9. mobile_wt - Weight of mobile, in grams\n",
    "10. n_cores - Number of cores of mobile processor\n",
    "11. pc - The megapixels of the primary or back camera\n",
    "12. px_height - Pixel resolution height\n",
    "13. px_width - Pixel resolution width\n",
    "14. ram - RAM capacity, in MB\n",
    "15. sc_h - Screen height\n",
    "16. sc_w - Screen width\n",
    "17. talktime - The longest time that one battery charge will last\n",
    "18. three_g - Indicates whether the phone has 3G support or not(0 for no, 1 for yes)\n",
    "19. touch_screen - Indicates whether the phone has touchscreen or not(0 for no, 1 for yes)\n",
    "20. wifi - Indicates whether the phone has WiFi support or not(0 for no, 1 for yes)\n",
    "21. price_range - Indicates the price range the mobile belongs to(0 for cheap, 1 for average, 2 for expensive, 3 for very expensive)"
   ]
  },
  {
   "cell_type": "markdown",
   "metadata": {},
   "source": [
    " "
   ]
  },
  {
   "cell_type": "markdown",
   "metadata": {},
   "source": [
    "## Loading packages\n",
    "\n",
    "We use this section to import some packages that we need. We need pandas and numpy to store the dataset and fetch statistics as required respectively. We use matplotlib and seaborn to plot graphs. We use confusion_matrix to create a confusion matrix for the model we select. The rest of the packages are the Machine Learing models we used, as mentioned earlier."
   ]
  },
  {
   "cell_type": "code",
   "execution_count": 1,
   "metadata": {},
   "outputs": [],
   "source": [
    "import numpy as np\n",
    "import pandas as pd\n",
    "import matplotlib.pyplot as plt\n",
    "import seaborn as sn\n",
    "from sklearn.model_selection import train_test_split\n",
    "from sklearn.linear_model import LinearRegression\n",
    "from sklearn.linear_model import LogisticRegression\n",
    "from sklearn.ensemble import RandomForestClassifier\n",
    "from sklearn.neighbors import KNeighborsClassifier\n",
    "from sklearn.metrics import confusion_matrix"
   ]
  },
  {
   "cell_type": "markdown",
   "metadata": {},
   "source": [
    "## Loading the data into a DataFrame\n",
    "We use read_csv() from pandas to read the csv file into a DataFrame. "
   ]
  },
  {
   "cell_type": "code",
   "execution_count": 2,
   "metadata": {},
   "outputs": [
    {
     "data": {
      "text/html": [
       "<div>\n",
       "<style scoped>\n",
       "    .dataframe tbody tr th:only-of-type {\n",
       "        vertical-align: middle;\n",
       "    }\n",
       "\n",
       "    .dataframe tbody tr th {\n",
       "        vertical-align: top;\n",
       "    }\n",
       "\n",
       "    .dataframe thead th {\n",
       "        text-align: right;\n",
       "    }\n",
       "</style>\n",
       "<table border=\"1\" class=\"dataframe\">\n",
       "  <thead>\n",
       "    <tr style=\"text-align: right;\">\n",
       "      <th></th>\n",
       "      <th>battery_power</th>\n",
       "      <th>blue</th>\n",
       "      <th>clock_speed</th>\n",
       "      <th>dual_sim</th>\n",
       "      <th>fc</th>\n",
       "      <th>four_g</th>\n",
       "      <th>int_memory</th>\n",
       "      <th>m_dep</th>\n",
       "      <th>mobile_wt</th>\n",
       "      <th>n_cores</th>\n",
       "      <th>...</th>\n",
       "      <th>px_height</th>\n",
       "      <th>px_width</th>\n",
       "      <th>ram</th>\n",
       "      <th>sc_h</th>\n",
       "      <th>sc_w</th>\n",
       "      <th>talk_time</th>\n",
       "      <th>three_g</th>\n",
       "      <th>touch_screen</th>\n",
       "      <th>wifi</th>\n",
       "      <th>price_range</th>\n",
       "    </tr>\n",
       "  </thead>\n",
       "  <tbody>\n",
       "    <tr>\n",
       "      <th>0</th>\n",
       "      <td>842</td>\n",
       "      <td>0</td>\n",
       "      <td>2.2</td>\n",
       "      <td>0</td>\n",
       "      <td>1</td>\n",
       "      <td>0</td>\n",
       "      <td>7</td>\n",
       "      <td>0.6</td>\n",
       "      <td>188</td>\n",
       "      <td>2</td>\n",
       "      <td>...</td>\n",
       "      <td>20</td>\n",
       "      <td>756</td>\n",
       "      <td>2549</td>\n",
       "      <td>9</td>\n",
       "      <td>7</td>\n",
       "      <td>19</td>\n",
       "      <td>0</td>\n",
       "      <td>0</td>\n",
       "      <td>1</td>\n",
       "      <td>1</td>\n",
       "    </tr>\n",
       "    <tr>\n",
       "      <th>1</th>\n",
       "      <td>1021</td>\n",
       "      <td>1</td>\n",
       "      <td>0.5</td>\n",
       "      <td>1</td>\n",
       "      <td>0</td>\n",
       "      <td>1</td>\n",
       "      <td>53</td>\n",
       "      <td>0.7</td>\n",
       "      <td>136</td>\n",
       "      <td>3</td>\n",
       "      <td>...</td>\n",
       "      <td>905</td>\n",
       "      <td>1988</td>\n",
       "      <td>2631</td>\n",
       "      <td>17</td>\n",
       "      <td>3</td>\n",
       "      <td>7</td>\n",
       "      <td>1</td>\n",
       "      <td>1</td>\n",
       "      <td>0</td>\n",
       "      <td>2</td>\n",
       "    </tr>\n",
       "    <tr>\n",
       "      <th>2</th>\n",
       "      <td>563</td>\n",
       "      <td>1</td>\n",
       "      <td>0.5</td>\n",
       "      <td>1</td>\n",
       "      <td>2</td>\n",
       "      <td>1</td>\n",
       "      <td>41</td>\n",
       "      <td>0.9</td>\n",
       "      <td>145</td>\n",
       "      <td>5</td>\n",
       "      <td>...</td>\n",
       "      <td>1263</td>\n",
       "      <td>1716</td>\n",
       "      <td>2603</td>\n",
       "      <td>11</td>\n",
       "      <td>2</td>\n",
       "      <td>9</td>\n",
       "      <td>1</td>\n",
       "      <td>1</td>\n",
       "      <td>0</td>\n",
       "      <td>2</td>\n",
       "    </tr>\n",
       "    <tr>\n",
       "      <th>3</th>\n",
       "      <td>615</td>\n",
       "      <td>1</td>\n",
       "      <td>2.5</td>\n",
       "      <td>0</td>\n",
       "      <td>0</td>\n",
       "      <td>0</td>\n",
       "      <td>10</td>\n",
       "      <td>0.8</td>\n",
       "      <td>131</td>\n",
       "      <td>6</td>\n",
       "      <td>...</td>\n",
       "      <td>1216</td>\n",
       "      <td>1786</td>\n",
       "      <td>2769</td>\n",
       "      <td>16</td>\n",
       "      <td>8</td>\n",
       "      <td>11</td>\n",
       "      <td>1</td>\n",
       "      <td>0</td>\n",
       "      <td>0</td>\n",
       "      <td>2</td>\n",
       "    </tr>\n",
       "    <tr>\n",
       "      <th>4</th>\n",
       "      <td>1821</td>\n",
       "      <td>1</td>\n",
       "      <td>1.2</td>\n",
       "      <td>0</td>\n",
       "      <td>13</td>\n",
       "      <td>1</td>\n",
       "      <td>44</td>\n",
       "      <td>0.6</td>\n",
       "      <td>141</td>\n",
       "      <td>2</td>\n",
       "      <td>...</td>\n",
       "      <td>1208</td>\n",
       "      <td>1212</td>\n",
       "      <td>1411</td>\n",
       "      <td>8</td>\n",
       "      <td>2</td>\n",
       "      <td>15</td>\n",
       "      <td>1</td>\n",
       "      <td>1</td>\n",
       "      <td>0</td>\n",
       "      <td>1</td>\n",
       "    </tr>\n",
       "  </tbody>\n",
       "</table>\n",
       "<p>5 rows × 21 columns</p>\n",
       "</div>"
      ],
      "text/plain": [
       "   battery_power  blue  clock_speed  dual_sim  fc  four_g  int_memory  m_dep  \\\n",
       "0            842     0          2.2         0   1       0           7    0.6   \n",
       "1           1021     1          0.5         1   0       1          53    0.7   \n",
       "2            563     1          0.5         1   2       1          41    0.9   \n",
       "3            615     1          2.5         0   0       0          10    0.8   \n",
       "4           1821     1          1.2         0  13       1          44    0.6   \n",
       "\n",
       "   mobile_wt  n_cores     ...       px_height  px_width   ram  sc_h  sc_w  \\\n",
       "0        188        2     ...              20       756  2549     9     7   \n",
       "1        136        3     ...             905      1988  2631    17     3   \n",
       "2        145        5     ...            1263      1716  2603    11     2   \n",
       "3        131        6     ...            1216      1786  2769    16     8   \n",
       "4        141        2     ...            1208      1212  1411     8     2   \n",
       "\n",
       "   talk_time  three_g  touch_screen  wifi  price_range  \n",
       "0         19        0             0     1            1  \n",
       "1          7        1             1     0            2  \n",
       "2          9        1             1     0            2  \n",
       "3         11        1             0     0            2  \n",
       "4         15        1             1     0            1  \n",
       "\n",
       "[5 rows x 21 columns]"
      ]
     },
     "execution_count": 2,
     "metadata": {},
     "output_type": "execute_result"
    }
   ],
   "source": [
    "train_data=pd.read_csv('dataset/train.csv')\n",
    "train_data.head()"
   ]
  },
  {
   "cell_type": "markdown",
   "metadata": {},
   "source": [
    "## Does the dataset need to be cleaned?\n",
    "Let's see!"
   ]
  },
  {
   "cell_type": "code",
   "execution_count": 3,
   "metadata": {},
   "outputs": [
    {
     "name": "stdout",
     "output_type": "stream",
     "text": [
      "<class 'pandas.core.frame.DataFrame'>\n",
      "RangeIndex: 2000 entries, 0 to 1999\n",
      "Data columns (total 21 columns):\n",
      "battery_power    2000 non-null int64\n",
      "blue             2000 non-null int64\n",
      "clock_speed      2000 non-null float64\n",
      "dual_sim         2000 non-null int64\n",
      "fc               2000 non-null int64\n",
      "four_g           2000 non-null int64\n",
      "int_memory       2000 non-null int64\n",
      "m_dep            2000 non-null float64\n",
      "mobile_wt        2000 non-null int64\n",
      "n_cores          2000 non-null int64\n",
      "pc               2000 non-null int64\n",
      "px_height        2000 non-null int64\n",
      "px_width         2000 non-null int64\n",
      "ram              2000 non-null int64\n",
      "sc_h             2000 non-null int64\n",
      "sc_w             2000 non-null int64\n",
      "talk_time        2000 non-null int64\n",
      "three_g          2000 non-null int64\n",
      "touch_screen     2000 non-null int64\n",
      "wifi             2000 non-null int64\n",
      "price_range      2000 non-null int64\n",
      "dtypes: float64(2), int64(19)\n",
      "memory usage: 328.2 KB\n"
     ]
    }
   ],
   "source": [
    "train_data.info()"
   ]
  },
  {
   "cell_type": "markdown",
   "metadata": {},
   "source": [
    "The dataset has a total of 2000 rows, and every column in the dataset has 2000 non-null values. The datatype is consistent too. So, we do not have to preprocess(or clean) the dataset."
   ]
  },
  {
   "cell_type": "markdown",
   "metadata": {},
   "source": [
    "## Number of phones in each price range"
   ]
  },
  {
   "cell_type": "code",
   "execution_count": 4,
   "metadata": {},
   "outputs": [
    {
     "data": {
      "image/png": "[encoded data removed]",
      "text/plain": [
       "<Figure size 432x288 with 1 Axes>"
      ]
     },
     "metadata": {},
     "output_type": "display_data"
    }
   ],
   "source": [
    "#we get the count of phones in each category using the appropriate conditions and plot them in a bar graph\n",
    "count0=train_data[train_data.price_range==0].shape[0]\n",
    "count1=train_data[train_data.price_range==1].shape[0]\n",
    "count2=train_data[train_data.price_range==2].shape[0]\n",
    "count3=train_data[train_data.price_range==3].shape[0]\n",
    "xAxis=[\"0\", \"1\", \"2\", \"3\"]\n",
    "yAxis=[count0, count1, count2, count3]\n",
    "plt.barh(xAxis, yAxis, color=\"red\")\n",
    "for index, value in enumerate(yAxis):\n",
    "    plt.text(value, index, str(value))\n",
    "plt.xlabel(\"Number of phones\")\n",
    "plt.ylabel(\"Price range\")\n",
    "plt.show()"
   ]
  },
  {
   "cell_type": "markdown",
   "metadata": {},
   "source": [
    "The 2000 mobiles are evenly spread into 4 price ranges of 500 each. We are working with a very consistent dataset here."
   ]
  },
  {
   "cell_type": "markdown",
   "metadata": {},
   "source": [
    "## Number of 4G phones vs 3G phones\n",
    "A very important factor behind buying a mobile is whether the phone supports 4G. The dataset comes from a time when 3G phones were more prevalent, so we check the exact number of phones that support 4G vs the number that support 3G."
   ]
  },
  {
   "cell_type": "code",
   "execution_count": 5,
   "metadata": {},
   "outputs": [
    {
     "data": {
      "image/png": "[encoded data removed]",
      "text/plain": [
       "<Figure size 432x288 with 1 Axes>"
      ]
     },
     "metadata": {},
     "output_type": "display_data"
    }
   ],
   "source": [
    "#we get the count of phones in 4G and 3G using the appropriate conditions and plot them in a bar graph\n",
    "count_4G=train_data[train_data.four_g==1].shape[0]\n",
    "count_3G=train_data[train_data.three_g==1].shape[0]\n",
    "xAxis=[\"3G\", \"4G\"]\n",
    "yAxis=[count_3G, count_4G]\n",
    "plt.barh(xAxis, yAxis, color=\"yellow\")\n",
    "for index, value in enumerate(yAxis):\n",
    "    plt.text(value, index, str(value))\n",
    "plt.xlabel(\"Number of phones\")\n",
    "plt.ylabel(\"Connection supported\")\n",
    "plt.show()"
   ]
  },
  {
   "cell_type": "markdown",
   "metadata": {},
   "source": [
    "## Percentage of 4G phones in each price range\n"
   ]
  },
  {
   "cell_type": "code",
   "execution_count": 6,
   "metadata": {
    "scrolled": true
   },
   "outputs": [
    {
     "data": {
      "image/png": "[encoded data removed]",
      "text/plain": [
       "<Figure size 432x288 with 1 Axes>"
      ]
     },
     "metadata": {},
     "output_type": "display_data"
    }
   ],
   "source": [
    "#we get the count of 4G phones in each range using the appropriate conditions, find the percentage \n",
    "#and plot them in a bar graph\n",
    "count4G0=train_data[(train_data.price_range==0) & (train_data.four_g==1)].shape[0]\n",
    "count4G1=train_data[(train_data.price_range==1) & (train_data.four_g==1)].shape[0]\n",
    "count4G2=train_data[(train_data.price_range==2) & (train_data.four_g==1)].shape[0]\n",
    "count4G3=train_data[(train_data.price_range==3) & (train_data.four_g==1)].shape[0]\n",
    "xAxis=[\"0\", \"1\", \"2\", \"3\"]\n",
    "yAxis=[count4G0*100/count0, count4G1*100/count1, count4G2*100/count2, count4G3*100/count3]\n",
    "plt.barh(xAxis, yAxis, color=\"green\")\n",
    "for index, value in enumerate(yAxis):\n",
    "    plt.text(value, index, str(value)+\" %\")\n",
    "plt.xlabel(\"Percentage of phones with 4G\")\n",
    "plt.ylabel(\"Price range\")\n",
    "plt.show()"
   ]
  },
  {
   "cell_type": "markdown",
   "metadata": {},
   "source": [
    "The graph makes sense, expensive phones tend to be more likely to support 4G than cheaper phones. Category 2 has a lower percentage than 1 and 0, which may owe to the fact that some 3G phones with high specs were released at a higher price."
   ]
  },
  {
   "cell_type": "markdown",
   "metadata": {},
   "source": [
    "## Percentage of phones with bluetooth in each price range\n",
    "Bluetooth is a feature that is very important to phones for sharing media. For such an important feature, prices must fluctuate, right?"
   ]
  },
  {
   "cell_type": "code",
   "execution_count": 7,
   "metadata": {
    "scrolled": true
   },
   "outputs": [
    {
     "data": {
      "image/png": "[encoded data removed]",
      "text/plain": [
       "<Figure size 432x288 with 1 Axes>"
      ]
     },
     "metadata": {},
     "output_type": "display_data"
    }
   ],
   "source": [
    "#we get the count of bluetooth phones in each range using the appropriate conditions, find the percentage \n",
    "#and plot them in a bar graph\n",
    "countb0=train_data[(train_data.price_range==0) & (train_data.blue==1)].shape[0]\n",
    "countb1=train_data[(train_data.price_range==1) & (train_data.blue==1)].shape[0]\n",
    "countb2=train_data[(train_data.price_range==2) & (train_data.blue==1)].shape[0]\n",
    "countb3=train_data[(train_data.price_range==3) & (train_data.blue==1)].shape[0]\n",
    "xAxis=[\"0\", \"1\", \"2\", \"3\"]\n",
    "yAxis=[countb0*100/count0, countb1*100/count1, countb2*100/count2, countb3*100/count3]\n",
    "plt.barh(xAxis, yAxis, color='blue')\n",
    "for index, value in enumerate(yAxis):\n",
    "    plt.text(value, index, str(value)+\" %\")\n",
    "plt.xlabel(\"Percentage of phones with Bluetooth\")\n",
    "plt.ylabel(\"Price range\")\n",
    "plt.show()"
   ]
  },
  {
   "cell_type": "markdown",
   "metadata": {},
   "source": [
    "Again, the graph makes sense since expensive phones are expected to support bluetooth."
   ]
  },
  {
   "cell_type": "markdown",
   "metadata": {},
   "source": [
    "## Internal memory at different price ranges\n",
    "Mobiles of the same model are to have higher prices for higher internal storage. Let us see how each price range fares for internal memory."
   ]
  },
  {
   "cell_type": "code",
   "execution_count": 8,
   "metadata": {},
   "outputs": [
    {
     "data": {
      "image/png": "[encoded data removed]",
      "text/plain": [
       "<Figure size 432x288 with 1 Axes>"
      ]
     },
     "metadata": {},
     "output_type": "display_data"
    }
   ],
   "source": [
    "#we get the average internal memory in each range using the appropriate conditions and plot them in a bar graph\n",
    "int_memory0=train_data[train_data.price_range==0]['int_memory'].mean()\n",
    "int_memory1=train_data[train_data.price_range==1]['int_memory'].mean()\n",
    "int_memory2=train_data[train_data.price_range==2]['int_memory'].mean()\n",
    "int_memory3=train_data[train_data.price_range==3]['int_memory'].mean()\n",
    "xAxis=[\"0\", \"1\", \"2\", \"3\"]\n",
    "yAxis=[int_memory0, int_memory1, int_memory2, int_memory3]\n",
    "plt.barh(xAxis, yAxis, color='cyan')\n",
    "for index, value in enumerate(yAxis):\n",
    "    plt.text(value, index, str(value)+\" GB\")\n",
    "plt.xlabel(\"Average Internal Memory(in GB)\")\n",
    "plt.ylabel(\"Price range\")\n",
    "plt.show()"
   ]
  },
  {
   "cell_type": "markdown",
   "metadata": {},
   "source": [
    "Internal memory seems to be around the same, slightly more for the very expensive phones. If you pay a higher price, you better get more internal memory."
   ]
  },
  {
   "cell_type": "markdown",
   "metadata": {},
   "source": [
    "## Battery power at different price ranges"
   ]
  },
  {
   "cell_type": "code",
   "execution_count": 9,
   "metadata": {},
   "outputs": [
    {
     "data": {
      "image/png": "[encoded data removed]",
      "text/plain": [
       "<Figure size 432x288 with 1 Axes>"
      ]
     },
     "metadata": {},
     "output_type": "display_data"
    }
   ],
   "source": [
    "#we get the average battery power in each range using the appropriate conditions and plot them in a bar graph\n",
    "battery_power0=train_data[train_data.price_range==0]['battery_power'].mean()\n",
    "battery_power1=train_data[train_data.price_range==1]['battery_power'].mean()\n",
    "battery_power2=train_data[train_data.price_range==2]['battery_power'].mean()\n",
    "battery_power3=train_data[train_data.price_range==3]['battery_power'].mean()\n",
    "xAxis=[\"0\", \"1\", \"2\", \"3\"]\n",
    "yAxis=[battery_power0, battery_power1, battery_power2, battery_power3]\n",
    "plt.barh(xAxis, yAxis)\n",
    "for index, value in enumerate(yAxis):\n",
    "    plt.text(value, index, str(value)+\" mAh\")\n",
    "plt.xlabel(\"Average Battery Power(in mAh)\")\n",
    "plt.ylabel(\"Price range\")\n",
    "plt.show()"
   ]
  },
  {
   "cell_type": "markdown",
   "metadata": {},
   "source": [
    "As price increases, so does the battery power. "
   ]
  },
  {
   "cell_type": "markdown",
   "metadata": {},
   "source": [
    "## Processor clock speed at different price ranges"
   ]
  },
  {
   "cell_type": "code",
   "execution_count": 10,
   "metadata": {},
   "outputs": [
    {
     "data": {
      "image/png": "[encoded data removed]",
      "text/plain": [
       "<Figure size 432x288 with 1 Axes>"
      ]
     },
     "metadata": {},
     "output_type": "display_data"
    }
   ],
   "source": [
    "#we get the average processor clock speed in each range using the appropriate conditions and plot them in a bar graph\n",
    "clock_speed0=train_data[train_data.price_range==0]['clock_speed'].mean()\n",
    "clock_speed1=train_data[train_data.price_range==1]['clock_speed'].mean()\n",
    "clock_speed2=train_data[train_data.price_range==2]['clock_speed'].mean()\n",
    "clock_speed3=train_data[train_data.price_range==3]['clock_speed'].mean()\n",
    "xAxis=[\"0\", \"1\", \"2\", \"3\"]\n",
    "yAxis=[clock_speed0, clock_speed1, clock_speed2, clock_speed3]\n",
    "plt.barh(xAxis, yAxis, color='orange')\n",
    "for index, value in enumerate(yAxis):\n",
    "    plt.text(value, index, \"{:.3f}\".format(value)+\" GHz\")\n",
    "plt.xlabel(\"Average Processor Clock Speed(in GHz)\")\n",
    "plt.ylabel(\"Price range\")\n",
    "plt.show()"
   ]
  },
  {
   "cell_type": "markdown",
   "metadata": {},
   "source": [
    "Here we see something unusual, the cheap phones have a higher average clock speed than the expensive and very expensive phones. Here is a mythbuster, the performance of a processor does not depend only on clock speed. In fact, expensive processors have less clock speed than a cheaper processor. To make up for the performance, expensive processors have better heat dissipation technologies and more cores."
   ]
  },
  {
   "cell_type": "markdown",
   "metadata": {},
   "source": [
    "## RAM at different price ranges\n",
    "RAM capacity affects the performance of a phone very drastically, so this is a very important feature in any mobile."
   ]
  },
  {
   "cell_type": "code",
   "execution_count": 11,
   "metadata": {},
   "outputs": [
    {
     "data": {
      "image/png": "[encoded data removed]",
      "text/plain": [
       "<Figure size 432x288 with 1 Axes>"
      ]
     },
     "metadata": {},
     "output_type": "display_data"
    }
   ],
   "source": [
    "#we get the average ram capacity in each range using the appropriate conditions and plot them in a bar graph\n",
    "ram0=train_data[train_data.price_range==0]['ram'].mean()\n",
    "ram1=train_data[train_data.price_range==1]['ram'].mean()\n",
    "ram2=train_data[train_data.price_range==2]['ram'].mean()\n",
    "ram3=train_data[train_data.price_range==3]['ram'].mean()\n",
    "xAxis=[\"0\", \"1\", \"2\", \"3\"]\n",
    "yAxis=[ram0, ram1, ram2, ram3]\n",
    "plt.barh(xAxis, yAxis, color='maroon')\n",
    "for index, value in enumerate(yAxis):\n",
    "    plt.text(value, index, str(value)+\" MB\")\n",
    "plt.xlabel(\"Average RAM capacity(in MB)\")\n",
    "plt.ylabel(\"Price range\")\n",
    "plt.show()"
   ]
  },
  {
   "cell_type": "markdown",
   "metadata": {},
   "source": [
    "The difference in RAM capacity for the different ranges is very significant. The price of a mobile depends very highly on the RAM capacity. "
   ]
  },
  {
   "cell_type": "markdown",
   "metadata": {},
   "source": [
    "## Primary and Front Camera megapixels at different price ranges"
   ]
  },
  {
   "cell_type": "code",
   "execution_count": 12,
   "metadata": {},
   "outputs": [
    {
     "data": {
      "image/png": "[encoded data removed]",
      "text/plain": [
       "<Figure size 432x288 with 1 Axes>"
      ]
     },
     "metadata": {},
     "output_type": "display_data"
    },
    {
     "data": {
      "image/png": "[encoded data removed]",
      "text/plain": [
       "<Figure size 432x288 with 1 Axes>"
      ]
     },
     "metadata": {},
     "output_type": "display_data"
    }
   ],
   "source": [
    "#we get the average primary cmaera mp and front camera mp in each range using the appropriate conditions \n",
    "#and plot them in bar graphs separately\n",
    "pc0=train_data[train_data.price_range==0]['pc'].mean()\n",
    "pc1=train_data[train_data.price_range==1]['pc'].mean()\n",
    "pc2=train_data[train_data.price_range==2]['pc'].mean()\n",
    "pc3=train_data[train_data.price_range==3]['pc'].mean()\n",
    "xAxis=[\"0\", \"1\", \"2\", \"3\"]\n",
    "yAxis=[pc0, pc1, pc2, pc3]\n",
    "plt.barh(xAxis, yAxis)\n",
    "for index, value in enumerate(yAxis):\n",
    "    plt.text(value, index, str(value)+\" mp\")\n",
    "plt.title('Primary Camera')\n",
    "plt.xlabel(\"Average Primary Camera megapixels\")\n",
    "plt.ylabel(\"Price range\")\n",
    "plt.show()\n",
    "fc0=train_data[train_data.price_range==0]['fc'].mean()\n",
    "fc1=train_data[train_data.price_range==1]['fc'].mean()\n",
    "fc2=train_data[train_data.price_range==2]['fc'].mean()\n",
    "fc3=train_data[train_data.price_range==3]['fc'].mean()\n",
    "xAxis=[\"0\", \"1\", \"2\", \"3\"]\n",
    "yAxis=[fc0, fc1, fc2, fc3]\n",
    "plt.barh(xAxis, yAxis)\n",
    "for index, value in enumerate(yAxis):\n",
    "    plt.text(value, index, str(value)+\" mp\")\n",
    "plt.title('Front Camera')\n",
    "plt.xlabel(\"Average Front Camera megapixels\")\n",
    "plt.ylabel(\"Price range\")\n",
    "plt.show()"
   ]
  },
  {
   "cell_type": "markdown",
   "metadata": {},
   "source": [
    "Not much difference in the camera megapixels, because more expensive phones tend to focus on performance from the processor and GPU."
   ]
  },
  {
   "cell_type": "markdown",
   "metadata": {},
   "source": [
    "## Splitting training data to training data and test data\n",
    "As we discussed earlier, the test file has no data for price range, so we have to split the training data into training data and testing data to find the accuracy of the models. We split them in a 60:40 basis. We set random state to a constant so that the result is same everytime."
   ]
  },
  {
   "cell_type": "code",
   "execution_count": 13,
   "metadata": {},
   "outputs": [],
   "source": [
    "x_data=train_data.drop(\"price_range\", axis=1)\n",
    "y_data=train_data[\"price_range\"]\n",
    "x_train, x_test, y_train, y_test=train_test_split(x_data, y_data, test_size=0.4, random_state=69)"
   ]
  },
  {
   "cell_type": "markdown",
   "metadata": {},
   "source": [
    "## Creating different models and checking their accuracy"
   ]
  },
  {
   "cell_type": "code",
   "execution_count": 14,
   "metadata": {},
   "outputs": [],
   "source": [
    "models=[]\n",
    "accuracys=[]"
   ]
  },
  {
   "cell_type": "markdown",
   "metadata": {},
   "source": [
    "## Linear Regression"
   ]
  },
  {
   "cell_type": "code",
   "execution_count": 15,
   "metadata": {},
   "outputs": [
    {
     "name": "stdout",
     "output_type": "stream",
     "text": [
      "The accuracy of Linear Regression is 91.25%\n"
     ]
    }
   ],
   "source": [
    "linear_regression=LinearRegression()\n",
    "linear_regression.fit(x_train, y_train)\n",
    "models.append(\"Linear Regression\")\n",
    "accuracys.append(linear_regression.score(x_test, y_test)*100)\n",
    "print(\"The accuracy of Linear Regression is %.2f%s\" %(linear_regression.score(x_test, y_test)*100, \"%\"))"
   ]
  },
  {
   "cell_type": "markdown",
   "metadata": {},
   "source": [
    "## Logistic Regression"
   ]
  },
  {
   "cell_type": "code",
   "execution_count": 16,
   "metadata": {},
   "outputs": [
    {
     "name": "stdout",
     "output_type": "stream",
     "text": [
      "The accuracy of Logistic Regression is 76.25%\n"
     ]
    }
   ],
   "source": [
    "logistic_regression=LogisticRegression(solver='liblinear')\n",
    "logistic_regression.fit(x_train, y_train)\n",
    "models.append(\"Logistic Regression\")\n",
    "accuracys.append(logistic_regression.score(x_test, y_test)*100)\n",
    "print(\"The accuracy of Logistic Regression is %.2f%s\" %(logistic_regression.score(x_test, y_test)*100, \"%\"))"
   ]
  },
  {
   "cell_type": "markdown",
   "metadata": {},
   "source": [
    "## Random Forest Classifier"
   ]
  },
  {
   "cell_type": "code",
   "execution_count": 17,
   "metadata": {},
   "outputs": [
    {
     "name": "stdout",
     "output_type": "stream",
     "text": [
      "The accuracy of Random Forest Classifier is 86.12%\n"
     ]
    }
   ],
   "source": [
    "random_forest=RandomForestClassifier(n_estimators=150)\n",
    "random_forest.fit(x_train, y_train)\n",
    "models.append(\"Random Forest Classifier\")\n",
    "accuracys.append(random_forest.score(x_test, y_test)*100)\n",
    "print(\"The accuracy of Random Forest Classifier is %.2f%s\" %(random_forest.score(x_test, y_test)*100, \"%\"))"
   ]
  },
  {
   "cell_type": "markdown",
   "metadata": {},
   "source": [
    "## K Nearest Neighbours Classifier\n",
    "We test the model for values of k from 4 to 20, and choose the one which is most accurate."
   ]
  },
  {
   "cell_type": "code",
   "execution_count": 18,
   "metadata": {},
   "outputs": [
    {
     "data": {
      "image/png": "[encoded data removed]",
      "text/plain": [
       "<Figure size 432x288 with 1 Axes>"
      ]
     },
     "metadata": {},
     "output_type": "display_data"
    },
    {
     "name": "stdout",
     "output_type": "stream",
     "text": [
      "Accuracy is maximum for k =  13\n"
     ]
    }
   ],
   "source": [
    "kvalues=[]\n",
    "accuracies=[]\n",
    "for k in range(4, 20+1):\n",
    "    k_neighbours=KNeighborsClassifier(n_neighbors=k)\n",
    "    k_neighbours.fit(x_train, y_train)\n",
    "    accuracies.append(k_neighbours.score(x_test, y_test)*100)\n",
    "    kvalues.append(str(k))\n",
    "plt.barh(kvalues, accuracies, color='indigo')\n",
    "for index, value in enumerate(accuracies):\n",
    "    plt.text(value, index, str(value)+\"%\")\n",
    "plt.xlabel(\"Accuracy\")\n",
    "plt.ylabel(\"Value of k\")\n",
    "plt.show()\n",
    "print('Accuracy is maximum for k = ', kvalues[accuracies.index(max(accuracies))])"
   ]
  },
  {
   "cell_type": "code",
   "execution_count": 19,
   "metadata": {},
   "outputs": [
    {
     "name": "stdout",
     "output_type": "stream",
     "text": [
      "The accuracy of K Neighbours Classifier is 92.62%\n"
     ]
    }
   ],
   "source": [
    "k_neighbours=KNeighborsClassifier(n_neighbors=13)\n",
    "k_neighbours.fit(x_train, y_train)\n",
    "models.append(\"KNN Classifier\")\n",
    "accuracys.append(k_neighbours.score(x_test, y_test)*100)\n",
    "print(\"The accuracy of K Neighbours Classifier is %.2f%s\" %(k_neighbours.score(x_test, y_test)*100, \"%\"))"
   ]
  },
  {
   "cell_type": "markdown",
   "metadata": {},
   "source": [
    "## Graphing the accuracies"
   ]
  },
  {
   "cell_type": "code",
   "execution_count": 20,
   "metadata": {},
   "outputs": [
    {
     "data": {
      "image/png": "[encoded data removed]",
      "text/plain": [
       "<Figure size 432x288 with 1 Axes>"
      ]
     },
     "metadata": {},
     "output_type": "display_data"
    }
   ],
   "source": [
    "plt.barh(models, accuracys)\n",
    "for index, value in enumerate(accuracys):\n",
    "    plt.text(value, index, \"{:.2f}\".format(value)+\"%\")\n",
    "plt.xlabel(\"Accuracy\")\n",
    "plt.ylabel(\"Model used\")\n",
    "plt.show()"
   ]
  },
  {
   "cell_type": "markdown",
   "metadata": {},
   "source": [
    "KNN Classifier with k=13 is chosen."
   ]
  },
  {
   "cell_type": "markdown",
   "metadata": {},
   "source": [
    "## Confusion Matrix of KNN Classifier"
   ]
  },
  {
   "cell_type": "code",
   "execution_count": 21,
   "metadata": {},
   "outputs": [
    {
     "data": {
      "image/png": "[encoded data removed]",
      "text/plain": [
       "<Figure size 432x288 with 2 Axes>"
      ]
     },
     "metadata": {},
     "output_type": "display_data"
    }
   ],
   "source": [
    "y_pred=k_neighbours.predict(x_data)\n",
    "confusion=confusion_matrix(y_data, y_pred)\n",
    "sn.heatmap(confusion, annot=True)\n",
    "plt.xlabel(\"Actual Price range\")\n",
    "plt.ylabel(\"Predicted Price range\")\n",
    "plt.show()"
   ]
  },
  {
   "cell_type": "markdown",
   "metadata": {},
   "source": [
    "The Confusion Matrix is heavier in the diagonals, suggesting a pretty accurate models. The few inaccuracies are 1 price range apart, since sometimes companies can choose to overprice their phone based on brand value while some companies lower prices to eliminate the competition. "
   ]
  },
  {
   "cell_type": "markdown",
   "metadata": {},
   "source": [
    "## Using the KNN Classifier model to predict price range of Test dataset"
   ]
  },
  {
   "cell_type": "code",
   "execution_count": 22,
   "metadata": {},
   "outputs": [
    {
     "data": {
      "text/html": [
       "<div>\n",
       "<style scoped>\n",
       "    .dataframe tbody tr th:only-of-type {\n",
       "        vertical-align: middle;\n",
       "    }\n",
       "\n",
       "    .dataframe tbody tr th {\n",
       "        vertical-align: top;\n",
       "    }\n",
       "\n",
       "    .dataframe thead th {\n",
       "        text-align: right;\n",
       "    }\n",
       "</style>\n",
       "<table border=\"1\" class=\"dataframe\">\n",
       "  <thead>\n",
       "    <tr style=\"text-align: right;\">\n",
       "      <th></th>\n",
       "      <th>id</th>\n",
       "      <th>battery_power</th>\n",
       "      <th>blue</th>\n",
       "      <th>clock_speed</th>\n",
       "      <th>dual_sim</th>\n",
       "      <th>fc</th>\n",
       "      <th>four_g</th>\n",
       "      <th>int_memory</th>\n",
       "      <th>m_dep</th>\n",
       "      <th>mobile_wt</th>\n",
       "      <th>...</th>\n",
       "      <th>pc</th>\n",
       "      <th>px_height</th>\n",
       "      <th>px_width</th>\n",
       "      <th>ram</th>\n",
       "      <th>sc_h</th>\n",
       "      <th>sc_w</th>\n",
       "      <th>talk_time</th>\n",
       "      <th>three_g</th>\n",
       "      <th>touch_screen</th>\n",
       "      <th>wifi</th>\n",
       "    </tr>\n",
       "  </thead>\n",
       "  <tbody>\n",
       "    <tr>\n",
       "      <th>0</th>\n",
       "      <td>1</td>\n",
       "      <td>1043</td>\n",
       "      <td>1</td>\n",
       "      <td>1.8</td>\n",
       "      <td>1</td>\n",
       "      <td>14</td>\n",
       "      <td>0</td>\n",
       "      <td>5</td>\n",
       "      <td>0.1</td>\n",
       "      <td>193</td>\n",
       "      <td>...</td>\n",
       "      <td>16</td>\n",
       "      <td>226</td>\n",
       "      <td>1412</td>\n",
       "      <td>3476</td>\n",
       "      <td>12</td>\n",
       "      <td>7</td>\n",
       "      <td>2</td>\n",
       "      <td>0</td>\n",
       "      <td>1</td>\n",
       "      <td>0</td>\n",
       "    </tr>\n",
       "    <tr>\n",
       "      <th>1</th>\n",
       "      <td>2</td>\n",
       "      <td>841</td>\n",
       "      <td>1</td>\n",
       "      <td>0.5</td>\n",
       "      <td>1</td>\n",
       "      <td>4</td>\n",
       "      <td>1</td>\n",
       "      <td>61</td>\n",
       "      <td>0.8</td>\n",
       "      <td>191</td>\n",
       "      <td>...</td>\n",
       "      <td>12</td>\n",
       "      <td>746</td>\n",
       "      <td>857</td>\n",
       "      <td>3895</td>\n",
       "      <td>6</td>\n",
       "      <td>0</td>\n",
       "      <td>7</td>\n",
       "      <td>1</td>\n",
       "      <td>0</td>\n",
       "      <td>0</td>\n",
       "    </tr>\n",
       "    <tr>\n",
       "      <th>2</th>\n",
       "      <td>3</td>\n",
       "      <td>1807</td>\n",
       "      <td>1</td>\n",
       "      <td>2.8</td>\n",
       "      <td>0</td>\n",
       "      <td>1</td>\n",
       "      <td>0</td>\n",
       "      <td>27</td>\n",
       "      <td>0.9</td>\n",
       "      <td>186</td>\n",
       "      <td>...</td>\n",
       "      <td>4</td>\n",
       "      <td>1270</td>\n",
       "      <td>1366</td>\n",
       "      <td>2396</td>\n",
       "      <td>17</td>\n",
       "      <td>10</td>\n",
       "      <td>10</td>\n",
       "      <td>0</td>\n",
       "      <td>1</td>\n",
       "      <td>1</td>\n",
       "    </tr>\n",
       "    <tr>\n",
       "      <th>3</th>\n",
       "      <td>4</td>\n",
       "      <td>1546</td>\n",
       "      <td>0</td>\n",
       "      <td>0.5</td>\n",
       "      <td>1</td>\n",
       "      <td>18</td>\n",
       "      <td>1</td>\n",
       "      <td>25</td>\n",
       "      <td>0.5</td>\n",
       "      <td>96</td>\n",
       "      <td>...</td>\n",
       "      <td>20</td>\n",
       "      <td>295</td>\n",
       "      <td>1752</td>\n",
       "      <td>3893</td>\n",
       "      <td>10</td>\n",
       "      <td>0</td>\n",
       "      <td>7</td>\n",
       "      <td>1</td>\n",
       "      <td>1</td>\n",
       "      <td>0</td>\n",
       "    </tr>\n",
       "    <tr>\n",
       "      <th>4</th>\n",
       "      <td>5</td>\n",
       "      <td>1434</td>\n",
       "      <td>0</td>\n",
       "      <td>1.4</td>\n",
       "      <td>0</td>\n",
       "      <td>11</td>\n",
       "      <td>1</td>\n",
       "      <td>49</td>\n",
       "      <td>0.5</td>\n",
       "      <td>108</td>\n",
       "      <td>...</td>\n",
       "      <td>18</td>\n",
       "      <td>749</td>\n",
       "      <td>810</td>\n",
       "      <td>1773</td>\n",
       "      <td>15</td>\n",
       "      <td>8</td>\n",
       "      <td>7</td>\n",
       "      <td>1</td>\n",
       "      <td>0</td>\n",
       "      <td>1</td>\n",
       "    </tr>\n",
       "  </tbody>\n",
       "</table>\n",
       "<p>5 rows × 21 columns</p>\n",
       "</div>"
      ],
      "text/plain": [
       "   id  battery_power  blue  clock_speed  dual_sim  fc  four_g  int_memory  \\\n",
       "0   1           1043     1          1.8         1  14       0           5   \n",
       "1   2            841     1          0.5         1   4       1          61   \n",
       "2   3           1807     1          2.8         0   1       0          27   \n",
       "3   4           1546     0          0.5         1  18       1          25   \n",
       "4   5           1434     0          1.4         0  11       1          49   \n",
       "\n",
       "   m_dep  mobile_wt  ...   pc  px_height  px_width   ram  sc_h  sc_w  \\\n",
       "0    0.1        193  ...   16        226      1412  3476    12     7   \n",
       "1    0.8        191  ...   12        746       857  3895     6     0   \n",
       "2    0.9        186  ...    4       1270      1366  2396    17    10   \n",
       "3    0.5         96  ...   20        295      1752  3893    10     0   \n",
       "4    0.5        108  ...   18        749       810  1773    15     8   \n",
       "\n",
       "   talk_time  three_g  touch_screen  wifi  \n",
       "0          2        0             1     0  \n",
       "1          7        1             0     0  \n",
       "2         10        0             1     1  \n",
       "3          7        1             1     0  \n",
       "4          7        1             0     1  \n",
       "\n",
       "[5 rows x 21 columns]"
      ]
     },
     "execution_count": 22,
     "metadata": {},
     "output_type": "execute_result"
    }
   ],
   "source": [
    "test_data=pd.read_csv('dataset/test.csv')\n",
    "test_data.head()"
   ]
  },
  {
   "cell_type": "code",
   "execution_count": 23,
   "metadata": {},
   "outputs": [
    {
     "data": {
      "text/html": [
       "<div>\n",
       "<style scoped>\n",
       "    .dataframe tbody tr th:only-of-type {\n",
       "        vertical-align: middle;\n",
       "    }\n",
       "\n",
       "    .dataframe tbody tr th {\n",
       "        vertical-align: top;\n",
       "    }\n",
       "\n",
       "    .dataframe thead th {\n",
       "        text-align: right;\n",
       "    }\n",
       "</style>\n",
       "<table border=\"1\" class=\"dataframe\">\n",
       "  <thead>\n",
       "    <tr style=\"text-align: right;\">\n",
       "      <th></th>\n",
       "      <th>id</th>\n",
       "      <th>battery_power</th>\n",
       "      <th>blue</th>\n",
       "      <th>clock_speed</th>\n",
       "      <th>dual_sim</th>\n",
       "      <th>fc</th>\n",
       "      <th>four_g</th>\n",
       "      <th>int_memory</th>\n",
       "      <th>m_dep</th>\n",
       "      <th>mobile_wt</th>\n",
       "      <th>...</th>\n",
       "      <th>px_height</th>\n",
       "      <th>px_width</th>\n",
       "      <th>ram</th>\n",
       "      <th>sc_h</th>\n",
       "      <th>sc_w</th>\n",
       "      <th>talk_time</th>\n",
       "      <th>three_g</th>\n",
       "      <th>touch_screen</th>\n",
       "      <th>wifi</th>\n",
       "      <th>price_range</th>\n",
       "    </tr>\n",
       "  </thead>\n",
       "  <tbody>\n",
       "    <tr>\n",
       "      <th>0</th>\n",
       "      <td>1</td>\n",
       "      <td>1043</td>\n",
       "      <td>1</td>\n",
       "      <td>1.8</td>\n",
       "      <td>1</td>\n",
       "      <td>14</td>\n",
       "      <td>0</td>\n",
       "      <td>5</td>\n",
       "      <td>0.1</td>\n",
       "      <td>193</td>\n",
       "      <td>...</td>\n",
       "      <td>226</td>\n",
       "      <td>1412</td>\n",
       "      <td>3476</td>\n",
       "      <td>12</td>\n",
       "      <td>7</td>\n",
       "      <td>2</td>\n",
       "      <td>0</td>\n",
       "      <td>1</td>\n",
       "      <td>0</td>\n",
       "      <td>3</td>\n",
       "    </tr>\n",
       "    <tr>\n",
       "      <th>1</th>\n",
       "      <td>2</td>\n",
       "      <td>841</td>\n",
       "      <td>1</td>\n",
       "      <td>0.5</td>\n",
       "      <td>1</td>\n",
       "      <td>4</td>\n",
       "      <td>1</td>\n",
       "      <td>61</td>\n",
       "      <td>0.8</td>\n",
       "      <td>191</td>\n",
       "      <td>...</td>\n",
       "      <td>746</td>\n",
       "      <td>857</td>\n",
       "      <td>3895</td>\n",
       "      <td>6</td>\n",
       "      <td>0</td>\n",
       "      <td>7</td>\n",
       "      <td>1</td>\n",
       "      <td>0</td>\n",
       "      <td>0</td>\n",
       "      <td>3</td>\n",
       "    </tr>\n",
       "    <tr>\n",
       "      <th>2</th>\n",
       "      <td>3</td>\n",
       "      <td>1807</td>\n",
       "      <td>1</td>\n",
       "      <td>2.8</td>\n",
       "      <td>0</td>\n",
       "      <td>1</td>\n",
       "      <td>0</td>\n",
       "      <td>27</td>\n",
       "      <td>0.9</td>\n",
       "      <td>186</td>\n",
       "      <td>...</td>\n",
       "      <td>1270</td>\n",
       "      <td>1366</td>\n",
       "      <td>2396</td>\n",
       "      <td>17</td>\n",
       "      <td>10</td>\n",
       "      <td>10</td>\n",
       "      <td>0</td>\n",
       "      <td>1</td>\n",
       "      <td>1</td>\n",
       "      <td>2</td>\n",
       "    </tr>\n",
       "    <tr>\n",
       "      <th>3</th>\n",
       "      <td>4</td>\n",
       "      <td>1546</td>\n",
       "      <td>0</td>\n",
       "      <td>0.5</td>\n",
       "      <td>1</td>\n",
       "      <td>18</td>\n",
       "      <td>1</td>\n",
       "      <td>25</td>\n",
       "      <td>0.5</td>\n",
       "      <td>96</td>\n",
       "      <td>...</td>\n",
       "      <td>295</td>\n",
       "      <td>1752</td>\n",
       "      <td>3893</td>\n",
       "      <td>10</td>\n",
       "      <td>0</td>\n",
       "      <td>7</td>\n",
       "      <td>1</td>\n",
       "      <td>1</td>\n",
       "      <td>0</td>\n",
       "      <td>3</td>\n",
       "    </tr>\n",
       "    <tr>\n",
       "      <th>4</th>\n",
       "      <td>5</td>\n",
       "      <td>1434</td>\n",
       "      <td>0</td>\n",
       "      <td>1.4</td>\n",
       "      <td>0</td>\n",
       "      <td>11</td>\n",
       "      <td>1</td>\n",
       "      <td>49</td>\n",
       "      <td>0.5</td>\n",
       "      <td>108</td>\n",
       "      <td>...</td>\n",
       "      <td>749</td>\n",
       "      <td>810</td>\n",
       "      <td>1773</td>\n",
       "      <td>15</td>\n",
       "      <td>8</td>\n",
       "      <td>7</td>\n",
       "      <td>1</td>\n",
       "      <td>0</td>\n",
       "      <td>1</td>\n",
       "      <td>1</td>\n",
       "    </tr>\n",
       "  </tbody>\n",
       "</table>\n",
       "<p>5 rows × 22 columns</p>\n",
       "</div>"
      ],
      "text/plain": [
       "   id  battery_power  blue  clock_speed  dual_sim  fc  four_g  int_memory  \\\n",
       "0   1           1043     1          1.8         1  14       0           5   \n",
       "1   2            841     1          0.5         1   4       1          61   \n",
       "2   3           1807     1          2.8         0   1       0          27   \n",
       "3   4           1546     0          0.5         1  18       1          25   \n",
       "4   5           1434     0          1.4         0  11       1          49   \n",
       "\n",
       "   m_dep  mobile_wt     ...       px_height  px_width   ram  sc_h  sc_w  \\\n",
       "0    0.1        193     ...             226      1412  3476    12     7   \n",
       "1    0.8        191     ...             746       857  3895     6     0   \n",
       "2    0.9        186     ...            1270      1366  2396    17    10   \n",
       "3    0.5         96     ...             295      1752  3893    10     0   \n",
       "4    0.5        108     ...             749       810  1773    15     8   \n",
       "\n",
       "   talk_time  three_g  touch_screen  wifi  price_range  \n",
       "0          2        0             1     0            3  \n",
       "1          7        1             0     0            3  \n",
       "2         10        0             1     1            2  \n",
       "3          7        1             1     0            3  \n",
       "4          7        1             0     1            1  \n",
       "\n",
       "[5 rows x 22 columns]"
      ]
     },
     "execution_count": 23,
     "metadata": {},
     "output_type": "execute_result"
    }
   ],
   "source": [
    "x_pred=test_data.drop(\"id\", axis=1)\n",
    "y_pred=k_neighbours.predict(x_pred)\n",
    "test_data[\"price_range\"]=y_pred\n",
    "test_data.head()"
   ]
  },
  {
   "cell_type": "markdown",
   "metadata": {},
   "source": [
    "The test dataset now has a column for price range."
   ]
  },
  {
   "cell_type": "markdown",
   "metadata": {},
   "source": [
    "## Number of phones in each price range of Test dataset"
   ]
  },
  {
   "cell_type": "code",
   "execution_count": 24,
   "metadata": {},
   "outputs": [
    {
     "data": {
      "image/png": "[encoded data removed]",
      "text/plain": [
       "<Figure size 432x288 with 1 Axes>"
      ]
     },
     "metadata": {},
     "output_type": "display_data"
    }
   ],
   "source": [
    "count0=test_data[test_data.price_range==0].shape[0]\n",
    "count1=test_data[test_data.price_range==1].shape[0]\n",
    "count2=test_data[test_data.price_range==2].shape[0]\n",
    "count3=test_data[test_data.price_range==3].shape[0]\n",
    "xAxis=[\"0\", \"1\", \"2\", \"3\"]\n",
    "yAxis=[count0, count1, count2, count3]\n",
    "plt.barh(xAxis, yAxis)\n",
    "for index, value in enumerate(yAxis):\n",
    "    plt.text(value, index, str(value))\n",
    "plt.xlabel(\"Number of phones\")\n",
    "plt.ylabel(\"Price range\")\n",
    "plt.show()"
   ]
  },
  {
   "cell_type": "markdown",
   "metadata": {},
   "source": [
    "Very evenly distributed, again."
   ]
  },
  {
   "cell_type": "markdown",
   "metadata": {},
   "source": [
    "## RAM at different price ranges of Test dataset"
   ]
  },
  {
   "cell_type": "code",
   "execution_count": 25,
   "metadata": {},
   "outputs": [
    {
     "data": {
      "image/png": "[encoded data removed]",
      "text/plain": [
       "<Figure size 432x288 with 1 Axes>"
      ]
     },
     "metadata": {},
     "output_type": "display_data"
    }
   ],
   "source": [
    "ram0=test_data[test_data.price_range==0]['ram'].mean()\n",
    "ram1=test_data[test_data.price_range==1]['ram'].mean()\n",
    "ram2=test_data[test_data.price_range==2]['ram'].mean()\n",
    "ram3=test_data[test_data.price_range==3]['ram'].mean()\n",
    "xAxis=[\"0\", \"1\", \"2\", \"3\"]\n",
    "yAxis=[ram0, ram1, ram2, ram3]\n",
    "plt.barh(xAxis, yAxis, color='maroon')\n",
    "for index, value in enumerate(yAxis):\n",
    "    plt.text(value, index, str(value)+\" MB\")\n",
    "plt.xlabel(\"Average RAM capacity(in MB)\")\n",
    "plt.ylabel(\"Price range\")\n",
    "plt.show()"
   ]
  },
  {
   "cell_type": "markdown",
   "metadata": {},
   "source": [
    "As we established earlier, RAM capacity is very important in determining the price range of a mobile. The average RAm capacity for each price range in test dataset is almost the same as that of testing dataset, so we can safely conclude that our model is working pretty well. This dataset is a little outdated, but it can be easily applied to modern mobiles with a few additions like whether it supports 5G, number of primary and front cameras and GPU capacity. Determining the price range of a mobile is vital, since it will help people to recognize if they are receiving value for their money being spent on mobiles. It can also be tuned to suggest phones based on a price range and given features that the customer needs. Overall, the model is pretty accurate and works as expected. Here's hoping we can apply our model on an updated dataset."
   ]
  }
 ],
 "metadata": {
  "kernelspec": {
   "display_name": "Python 3",
   "language": "python",
   "name": "python3"
  },
  "language_info": {
   "codemirror_mode": {
    "name": "ipython",
    "version": 3
   },
   "file_extension": ".py",
   "mimetype": "text/x-python",
   "name": "python",
   "nbconvert_exporter": "python",
   "pygments_lexer": "ipython3",
   "version": "3.6.5"
  }
 },
 "nbformat": 4,
 "nbformat_minor": 4
}
